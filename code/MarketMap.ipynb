{
 "cells": [
  {
   "cell_type": "markdown",
   "id": "c200dfa2",
   "metadata": {},
   "source": [
    "## Ссылки\n",
    "API https://tinkoff.github.io/investAPI/\n",
    "\n",
    "Библиотка https://github.com/Tinkoff/invest-python\n",
    "\n",
    "Визуализация https://plotly.com/python/treemaps/"
   ]
  },
  {
   "cell_type": "markdown",
   "id": "b7100ed5",
   "metadata": {},
   "source": [
    "### Как запустить\n",
    "Нужен токен, который можно сделать на сайте тинькоф\n",
    "\n",
    "Нужно название счета"
   ]
  },
  {
   "cell_type": "code",
   "execution_count": null,
   "id": "01faf5a2",
   "metadata": {},
   "outputs": [],
   "source": [
    "TOKEN = 'tinkoff.api.token'  # можно readonly\n",
    "\n",
    "account_name = 'Основной счет'"
   ]
  },
  {
   "cell_type": "code",
   "execution_count": null,
   "id": "1e039fac",
   "metadata": {},
   "outputs": [],
   "source": [
    "import time\n",
    "\n",
    "import pandas as pd\n",
    "import plotly.express as px\n",
    "import numpy as np\n",
    "\n",
    "from tinkoff.invest import Client"
   ]
  },
  {
   "cell_type": "code",
   "execution_count": null,
   "id": "dc50b044",
   "metadata": {},
   "outputs": [],
   "source": [
    "\n",
    "\n",
    "\n",
    "# Просто проверяем что все работает и токен верный\n",
    "# Получаем список счетов\n",
    "with Client(TOKEN) as client:\n",
    "    print(client.users.get_accounts())"
   ]
  },
  {
   "cell_type": "code",
   "execution_count": null,
   "id": "c150322a",
   "metadata": {},
   "outputs": [],
   "source": [
    "# типы из библиоткеки tinkoff\n",
    "ID_TYPES = {\n",
    "    'INSTRUMENT_ID_UNSPECIFIED': 0,\n",
    "    'INSTRUMENT_ID_TYPE_FIGI': 1,\n",
    "    'INSTRUMENT_ID_TYPE_TICKER': 2,\n",
    "    'INSTRUMENT_ID_TYPE_UID': 3,\n",
    "    'INSTRUMENT_ID_TYPE_POSITION_UID': 4,\n",
    "}\n",
    "\n",
    "\n",
    "\n",
    "class MarketMap:\n",
    "    def __init__(self, token, account_name):\n",
    "        self.token = token\n",
    "        self.account_name = account_name\n",
    "\n",
    "    def get_account(self):\n",
    "        with Client(self.token) as client:\n",
    "            accounts = client.users.get_accounts().accounts\n",
    "            account = [i for i in accounts if i.name == self.account_name]\n",
    "            assert len(account) == 1\n",
    "            account = account[0]\n",
    "            return account\n",
    "    \n",
    "    def get_account_portfolio(self, update=False):\n",
    "        account = self.get_account()\n",
    "        \n",
    "        with Client(self.token) as client:\n",
    "            portfolio = client.operations.get_portfolio(account_id=account.id)\n",
    "            return portfolio\n",
    "    \n",
    "    def get_info_by_figi(self, portfolio):\n",
    "        instruments_info = {}\n",
    "        with Client(self.token) as client:\n",
    "            for pos in portfolio.positions:\n",
    "                #print(pos.figi, pos.instrument_type, pos.quantity, pos.current_price)\n",
    "                #if pos.instrument_type in ['bond', 'etf', 'futures']:\n",
    "                    #continue\n",
    "                if pos.instrument_type == 'currency':\n",
    "                    info = client.instruments.currency_by(id_type=1, id=pos.figi)\n",
    "                elif pos.instrument_type == 'etf':\n",
    "                    info = client.instruments.etf_by(id_type=1, id=pos.figi)\n",
    "                elif pos.instrument_type == 'bond':\n",
    "                    info = client.instruments.bond_by(id_type=1, id=pos.figi)\n",
    "                elif pos.instrument_type == 'futures':\n",
    "                    info = client.instruments.future_by(id_type=1, id=pos.figi)\n",
    "                else:\n",
    "                    info = client.instruments.share_by(id_type=1, id=pos.figi)\n",
    "                instruments_info[pos.figi] = info\n",
    "                time.sleep(0.3)               \n",
    "\n",
    "            return instruments_info\n",
    "\n",
    "    \n",
    "def to_int(value):\n",
    "    return value.units + (value.nano / 1000000000 if value.nano else 0)\n",
    "\n",
    "\n",
    "def get_portfolio_value(portfolio):\n",
    "    total_amount = [\n",
    "        portfolio.total_amount_shares,\n",
    "        portfolio.total_amount_bonds,\n",
    "        portfolio.total_amount_etf,\n",
    "        portfolio.total_amount_currencies,\n",
    "        #portfolio.total_amount_futures,\n",
    "    ]\n",
    "    total_amount = sum(map(to_int, total_amount))\n",
    "    \n",
    "    return total_amount\n",
    "\n",
    "\n",
    "def get_positions_by_type(portfolio):\n",
    "    types = ['currency', 'share', 'bond', 'etf', 'futures']\n",
    "    positions_by_type = {}\n",
    "    for pos_type in types:\n",
    "        positions_by_type[pos_type] = [i for i in portfolio.positions if i.instrument_type == pos_type]\n",
    "    return positions_by_type\n",
    "\n",
    "def get_currency_prices(portfolio, instruments_info):\n",
    "    cur_pos = get_positions_by_type(portfolio)['currency']\n",
    "    currencies_current_price = {}\n",
    "    \n",
    "    for c_pos in cur_pos:\n",
    "        current_price = to_int(c_pos.current_price)\n",
    "        currency_name = instruments_info[c_pos.figi].instrument.iso_currency_name\n",
    "        currencies_current_price[currency_name] = current_price\n",
    "    return currencies_current_price\n",
    "\n",
    "def get_shares_share(portfolio, instruments_info):\n",
    "    shares_share = []\n",
    "    currencies_current_price = get_currency_prices(portfolio, instruments_info)\n",
    "    portfolio_value = get_portfolio_value(portfolio)\n",
    "    assert portfolio_value > 0\n",
    "    \n",
    "    share_pos = get_positions_by_type(portfolio)['share']\n",
    "    for s_pos in share_pos:\n",
    "        _info = instruments_info[s_pos.figi].instrument\n",
    "        currency = s_pos.current_price.currency\n",
    "        if currency == 'rub':\n",
    "            position_value_rub = to_int(s_pos.current_price) * to_int(s_pos.quantity)\n",
    "        else:\n",
    "            position_value_rub = to_int(s_pos.current_price) * currencies_current_price[currency] * to_int(s_pos.quantity)\n",
    "        shares_share.append({\n",
    "            'ticker': _info.ticker,\n",
    "            'position_value_rub': position_value_rub,\n",
    "            'quantity': to_int(s_pos.quantity),\n",
    "            'position_share': position_value_rub / portfolio_value,\n",
    "            'currency': currency,\n",
    "        })\n",
    "    return shares_share\n",
    "\n",
    "\n",
    "# добавляем данные по облигациям, ETF и валютам\n",
    "def update_shares_share(portfolio, shares_share):\n",
    "    portfolio_value = get_portfolio_value(portfolio)\n",
    "\n",
    "    shares_share.append({\n",
    "        'ticker': 'bonds',\n",
    "        'position_value_rub': to_int(portfolio.total_amount_bonds),\n",
    "        'quantity': 1,\n",
    "        'position_share': to_int(portfolio.total_amount_bonds) / portfolio_value,\n",
    "        'currency': 'bonds, etf and currencies',\n",
    "    })\n",
    "    shares_share.append({\n",
    "        'ticker': 'etf',\n",
    "        'position_value_rub': to_int(portfolio.total_amount_etf),\n",
    "        'quantity': 1,\n",
    "        'position_share': to_int(portfolio.total_amount_etf) / portfolio_value,\n",
    "        'currency': 'bonds, etf and currencies',\n",
    "    })\n",
    "    shares_share.append({\n",
    "        'ticker': 'currencies',\n",
    "        'position_value_rub': to_int(portfolio.total_amount_currencies),\n",
    "        'quantity': 1,\n",
    "        'position_share': to_int(portfolio.total_amount_currencies) / portfolio_value,\n",
    "        'currency': 'bonds, etf and currencies',\n",
    "    })\n",
    "    \n",
    "    return shares_share\n",
    "    \n",
    "    "
   ]
  },
  {
   "cell_type": "code",
   "execution_count": null,
   "id": "9e8e18ff",
   "metadata": {},
   "outputs": [],
   "source": [
    "# Подставляем токен и название нужного счета\n",
    "mmap = MarketMap(TOKEN, account_name)"
   ]
  },
  {
   "cell_type": "code",
   "execution_count": null,
   "id": "6443850e",
   "metadata": {},
   "outputs": [],
   "source": [
    "portfolio = mmap.get_account_portfolio()"
   ]
  },
  {
   "cell_type": "code",
   "execution_count": null,
   "id": "f754ce1f",
   "metadata": {},
   "outputs": [],
   "source": [
    "# средств на счете\n",
    "get_portfolio_value(portfolio)"
   ]
  },
  {
   "cell_type": "code",
   "execution_count": null,
   "id": "402fbe62",
   "metadata": {},
   "outputs": [],
   "source": [
    "instruments_info = mmap.get_info_by_figi(portfolio)"
   ]
  },
  {
   "cell_type": "code",
   "execution_count": null,
   "id": "11d51d4b",
   "metadata": {},
   "outputs": [],
   "source": [
    "# получаем курс валют (все нужные мне есть у меня в портфеле\n",
    "# если у вас их нет на остатке, то нужно будет придумать другой подход получить курс)\n",
    "currencies_current_price = get_currency_prices(portfolio, instruments_info)\n",
    "currencies_current_price"
   ]
  },
  {
   "cell_type": "code",
   "execution_count": null,
   "id": "f020f107",
   "metadata": {},
   "outputs": [],
   "source": [
    "# считаем доли для всех акций\n",
    "shares_share = get_shares_share(portfolio, instruments_info)\n",
    "shares_share"
   ]
  },
  {
   "cell_type": "code",
   "execution_count": null,
   "id": "7ae40687",
   "metadata": {},
   "outputs": [],
   "source": [
    "# добавляем инфу по ETF, облигациям и валютам\n",
    "shares_share = update_shares_share(portfolio, shares_share)"
   ]
  },
  {
   "cell_type": "code",
   "execution_count": null,
   "id": "398dedc9",
   "metadata": {},
   "outputs": [],
   "source": [
    "shares_share_df = pd.DataFrame(shares_share)\n",
    "shares_share_df"
   ]
  },
  {
   "cell_type": "code",
   "execution_count": null,
   "id": "0332d97f",
   "metadata": {},
   "outputs": [],
   "source": [
    "# Строим график\n",
    "\n",
    "fig = px.treemap(shares_share_df, path=[px.Constant('portfolio'), 'currency', 'ticker'], values='position_value_rub',\n",
    "                  color='position_value_rub',# hover_data=['iso_alpha'],\n",
    "                  color_continuous_scale='RdBu',\n",
    "                  #color_continuous_midpoint=np.average(df['lifeExp'], weights=df['pop'])\n",
    ")\n",
    "fig.update_layout(margin = dict(t=50, l=25, r=25, b=25))\n",
    "fig.show()"
   ]
  },
  {
   "cell_type": "markdown",
   "id": "9e98e357",
   "metadata": {},
   "source": [
    "### Шаблон для графика взят отсюда\n",
    "https://plotly.com/python/treemaps/"
   ]
  },
  {
   "cell_type": "code",
   "execution_count": null,
   "id": "6ef69b85",
   "metadata": {},
   "outputs": [],
   "source": [
    "df = px.data.gapminder().query(\"year == 2007\")\n",
    "fig = px.treemap(df, path=[px.Constant(\"world\"), 'continent', 'country'], values='pop',\n",
    "                  color='lifeExp', hover_data=['iso_alpha'],\n",
    "                  color_continuous_scale='RdBu',\n",
    "                  color_continuous_midpoint=np.average(df['lifeExp'], weights=df['pop']))\n",
    "fig.update_layout(margin = dict(t=50, l=25, r=25, b=25))\n",
    "fig.show()"
   ]
  },
  {
   "cell_type": "code",
   "execution_count": null,
   "id": "276b17ea",
   "metadata": {},
   "outputs": [],
   "source": [
    "df"
   ]
  },
  {
   "cell_type": "code",
   "execution_count": null,
   "id": "5170cd0b",
   "metadata": {},
   "outputs": [],
   "source": []
  },
  {
   "cell_type": "code",
   "execution_count": null,
   "id": "6756be63",
   "metadata": {},
   "outputs": [],
   "source": []
  },
  {
   "cell_type": "code",
   "execution_count": null,
   "id": "a7a67892",
   "metadata": {},
   "outputs": [],
   "source": []
  }
 ],
 "metadata": {
  "kernelspec": {
   "display_name": "Python 3 (ipykernel)",
   "language": "python",
   "name": "python3"
  },
  "language_info": {
   "codemirror_mode": {
    "name": "ipython",
    "version": 3
   },
   "file_extension": ".py",
   "mimetype": "text/x-python",
   "name": "python",
   "nbconvert_exporter": "python",
   "pygments_lexer": "ipython3",
   "version": "3.8.10"
  }
 },
 "nbformat": 4,
 "nbformat_minor": 5
}
